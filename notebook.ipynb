{
 "cells": [
  {
   "cell_type": "code",
   "execution_count": null,
   "metadata": {
    "execution": {
     "iopub.execute_input": "2021-06-29T15:39:00.693697Z",
     "iopub.status.busy": "2021-06-29T15:39:00.693053Z",
     "iopub.status.idle": "2021-06-29T15:39:00.717505Z",
     "shell.execute_reply": "2021-06-29T15:39:00.716562Z",
     "shell.execute_reply.started": "2021-06-29T15:39:00.693562Z"
    }
   },
   "outputs": [],
   "source": [
    "%%sql sqlite:///database.sqlite\n",
    "-- Create database and its table\n",
    "\n",
    "CREATE TABLE IF NOT EXISTS international_debt\n",
    "(\n",
    "  country_name character varying(50),\n",
    "  country_code character varying(50),\n",
    "  indicator_name text,\n",
    "  indicator_code text,\n",
    "  debt numeric\n",
    ");"
   ]
  },
  {
   "cell_type": "code",
   "execution_count": null,
   "metadata": {
    "execution": {
     "iopub.execute_input": "2021-06-29T15:39:00.719784Z",
     "iopub.status.busy": "2021-06-29T15:39:00.719480Z",
     "iopub.status.idle": "2021-06-29T15:39:00.760518Z",
     "shell.execute_reply": "2021-06-29T15:39:00.759420Z",
     "shell.execute_reply.started": "2021-06-29T15:39:00.719753Z"
    }
   },
   "outputs": [],
   "source": [
    "## Import datasets to table\n",
    "\n",
    "import pandas as pd\n",
    "import sqlite3\n",
    "\n",
    "# Create connection\n",
    "con = sqlite3.connect(\"database.sqlite\")\n",
    "\n",
    "# Load the data into a Pandas DataFrame\n",
    "df = pd.read_csv('international_debt.csv')\n",
    "\n",
    "# Write the data to a sqlite table\n",
    "df.to_sql('international_debt', con, if_exists='append', index = False)"
   ]
  },
  {
   "cell_type": "code",
   "execution_count": null,
   "metadata": {
    "execution": {
     "iopub.execute_input": "2021-06-29T15:39:00.762348Z",
     "iopub.status.busy": "2021-06-29T15:39:00.762013Z",
     "iopub.status.idle": "2021-06-29T15:39:00.772160Z",
     "shell.execute_reply": "2021-06-29T15:39:00.771030Z",
     "shell.execute_reply.started": "2021-06-29T15:39:00.762316Z"
    }
   },
   "outputs": [],
   "source": [
    "%%sql\n",
    "-- View some data from table\n",
    "\n",
    "SELECT *\n",
    "FROM international_debt\n",
    "LIMIT 10;"
   ]
  },
  {
   "cell_type": "code",
   "execution_count": null,
   "metadata": {
    "execution": {
     "iopub.execute_input": "2021-06-29T15:39:00.773769Z",
     "iopub.status.busy": "2021-06-29T15:39:00.773490Z",
     "iopub.status.idle": "2021-06-29T15:39:00.791614Z",
     "shell.execute_reply": "2021-06-29T15:39:00.790293Z",
     "shell.execute_reply.started": "2021-06-29T15:39:00.773744Z"
    }
   },
   "outputs": [],
   "source": [
    "%%sql\n",
    "-- Find total of distinct countries\n",
    "\n",
    "SELECT \n",
    "    COUNT(DISTINCT country_name) AS total_distinct_countries\n",
    "FROM international_debt;"
   ]
  },
  {
   "cell_type": "code",
   "execution_count": null,
   "metadata": {
    "execution": {
     "iopub.execute_input": "2021-06-29T15:39:00.793399Z",
     "iopub.status.busy": "2021-06-29T15:39:00.793055Z",
     "iopub.status.idle": "2021-06-29T15:39:00.811343Z",
     "shell.execute_reply": "2021-06-29T15:39:00.810211Z",
     "shell.execute_reply.started": "2021-06-29T15:39:00.793369Z"
    }
   },
   "outputs": [],
   "source": [
    "%%sql\n",
    "-- Extract the unique debt indicators\n",
    "\n",
    "SELECT \n",
    "    DISTINCT indicator_code AS distinct_debt_indicators\n",
    "FROM international_debt\n",
    "ORDER BY distinct_debt_indicators;"
   ]
  },
  {
   "cell_type": "code",
   "execution_count": null,
   "metadata": {
    "execution": {
     "iopub.execute_input": "2021-06-29T15:39:00.813415Z",
     "iopub.status.busy": "2021-06-29T15:39:00.812968Z",
     "iopub.status.idle": "2021-06-29T15:39:00.824047Z",
     "shell.execute_reply": "2021-06-29T15:39:00.823067Z",
     "shell.execute_reply.started": "2021-06-29T15:39:00.813373Z"
    }
   },
   "outputs": [],
   "source": [
    "%%sql\n",
    "-- Find out total amount of debt\n",
    "\n",
    "SELECT \n",
    "    ROUND(SUM(debt)/1000000, 2) AS total_debt\n",
    "FROM international_debt; "
   ]
  },
  {
   "cell_type": "code",
   "execution_count": null,
   "metadata": {
    "execution": {
     "iopub.execute_input": "2021-06-29T15:39:00.827737Z",
     "iopub.status.busy": "2021-06-29T15:39:00.827322Z",
     "iopub.status.idle": "2021-06-29T15:39:00.843989Z",
     "shell.execute_reply": "2021-06-29T15:39:00.843007Z",
     "shell.execute_reply.started": "2021-06-29T15:39:00.827696Z"
    }
   },
   "outputs": [],
   "source": [
    "%%sql\n",
    "-- Find out country owing to the highest debt\n",
    "\n",
    "SELECT \n",
    "    country_name, \n",
    "    SUM(debt) AS total_debt\n",
    "FROM international_debt\n",
    "GROUP BY country_name\n",
    "ORDER BY total_debt DESC\n",
    "LIMIT 1;"
   ]
  },
  {
   "cell_type": "code",
   "execution_count": null,
   "metadata": {
    "execution": {
     "iopub.execute_input": "2021-06-29T15:39:00.846132Z",
     "iopub.status.busy": "2021-06-29T15:39:00.845814Z",
     "iopub.status.idle": "2021-06-29T15:39:00.862093Z",
     "shell.execute_reply": "2021-06-29T15:39:00.860908Z",
     "shell.execute_reply.started": "2021-06-29T15:39:00.846104Z"
    }
   },
   "outputs": [],
   "source": [
    "%%sql\n",
    "-- Determine average amount of debt across indicators\n",
    "\n",
    "SELECT \n",
    "    indicator_code AS debt_indicator,\n",
    "    indicator_name,\n",
    "    AVG(debt) AS average_debt\n",
    "FROM international_debt\n",
    "GROUP BY debt_indicator, indicator_name\n",
    "ORDER BY average_debt DESC\n",
    "LIMIT 10;"
   ]
  },
  {
   "cell_type": "code",
   "execution_count": null,
   "metadata": {
    "execution": {
     "iopub.execute_input": "2021-06-29T15:39:00.863877Z",
     "iopub.status.busy": "2021-06-29T15:39:00.863528Z",
     "iopub.status.idle": "2021-06-29T15:39:00.875996Z",
     "shell.execute_reply": "2021-06-29T15:39:00.874750Z",
     "shell.execute_reply.started": "2021-06-29T15:39:00.863848Z"
    }
   },
   "outputs": [],
   "source": [
    "%%sql\n",
    "-- Find out country with highest amount of principal repayments\n",
    "\n",
    "SELECT \n",
    "    country_name, \n",
    "    indicator_name\n",
    "FROM international_debt\n",
    "WHERE debt = (SELECT \n",
    "                  MAX(debt)\n",
    "              FROM international_debt\n",
    "              WHERE indicator_code='DT.AMT.DLXF.CD');"
   ]
  },
  {
   "cell_type": "code",
   "execution_count": null,
   "metadata": {
    "execution": {
     "iopub.execute_input": "2021-06-29T15:39:00.878262Z",
     "iopub.status.busy": "2021-06-29T15:39:00.877829Z",
     "iopub.status.idle": "2021-06-29T15:39:00.897533Z",
     "shell.execute_reply": "2021-06-29T15:39:00.896242Z",
     "shell.execute_reply.started": "2021-06-29T15:39:00.878219Z"
    }
   },
   "outputs": [],
   "source": [
    "%%sql\n",
    "-- Find out debt indicator that appears most frequently\n",
    "\n",
    "SELECT \n",
    "    indicator_code,\n",
    "    COUNT(indicator_code) AS indicator_count\n",
    "FROM international_debt\n",
    "GROUP BY indicator_code\n",
    "ORDER BY indicator_count DESC, indicator_code DESC\n",
    "LIMIT 20;"
   ]
  },
  {
   "cell_type": "code",
   "execution_count": null,
   "metadata": {
    "execution": {
     "iopub.execute_input": "2021-06-29T15:39:00.899149Z",
     "iopub.status.busy": "2021-06-29T15:39:00.898858Z",
     "iopub.status.idle": "2021-06-29T15:39:00.914117Z",
     "shell.execute_reply": "2021-06-29T15:39:00.913031Z",
     "shell.execute_reply.started": "2021-06-29T15:39:00.899120Z"
    }
   },
   "outputs": [],
   "source": [
    "%%sql\n",
    "-- Find out maximum amount of debt that each country has\n",
    "\n",
    "SELECT \n",
    "    country_name, \n",
    "    MAX(debt) AS maximum_debt\n",
    "FROM international_debt\n",
    "GROUP BY country_name\n",
    "ORDER BY maximum_debt DESC\n",
    "LIMIT 10;"
   ]
  }
 ],
 "metadata": {
  "kernelspec": {
   "display_name": "Python 3",
   "language": "python",
   "name": "python3"
  },
  "language_info": {
   "codemirror_mode": {
    "name": "ipython",
    "version": 3
   },
   "file_extension": ".py",
   "mimetype": "text/x-python",
   "name": "python",
   "nbconvert_exporter": "python",
   "pygments_lexer": "ipython3",
   "version": "3.7.9"
  }
 },
 "nbformat": 4,
 "nbformat_minor": 4
}
